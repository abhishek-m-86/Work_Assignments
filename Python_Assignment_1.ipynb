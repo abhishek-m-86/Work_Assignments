{
 "cells": [
  {
   "cell_type": "code",
   "execution_count": 21,
   "metadata": {},
   "outputs": [
    {
     "name": "stdout",
     "output_type": "stream",
     "text": [
      "2002,2009,2016,2023,2037,2044,2051,2058,2072,2079,2086,2093,2107,2114,2121,2128,2142,2149,2156,2163,2177,2184,2191,2198,2212,2219,2226,2233,2247,2254,2261,2268,2282,2289,2296,2303,2317,2324,2331,2338,2352,2359,2366,2373,2387,2394,2401,2408,2422,2429,2436,2443,2457,2464,2471,2478,2492,2499,2506,2513,2527,2534,2541,2548,2562,2569,2576,2583,2597,2604,2611,2618,2632,2639,2646,2653,2667,2674,2681,2688,2702,2709,2716,2723,2737,2744,2751,2758,2772,2779,2786,2793,2807,2814,2821,2828,2842,2849,2856,2863,2877,2884,2891,2898,2912,2919,2926,2933,2947,2954,2961,2968,2982,2989,2996\n"
     ]
    }
   ],
   "source": [
    "#Python Assignment 1, Question1\n",
    "\n",
    "a=[]\n",
    "a1=''\n",
    "for i in range(2000,3000):\n",
    "    if ( i % 7 == 0 and i % 5 != 0 ):\n",
    "        a.append(i)\n",
    "for i in range(len(a)):\n",
    "    if i == 0:\n",
    "        a1 = str(a[i])\n",
    "    else:\n",
    "        a1 = a1+','+str(a[i])\n",
    "print(a1)\n"
   ]
  },
  {
   "cell_type": "code",
   "execution_count": 22,
   "metadata": {},
   "outputs": [
    {
     "name": "stdout",
     "output_type": "stream",
     "text": [
      "Enter your first name and Last nameJack Sparrow\n",
      "Sparrow Jack \n"
     ]
    }
   ],
   "source": [
    "#Python Assignment 1, Question2\n",
    "y=[]\n",
    "Name=str(input(\"Enter your first name and Last name\"))\n",
    "y=Name.split()\n",
    "y.reverse()\n",
    "a = ''\n",
    "for i in range(len(y)):\n",
    "    if i==len(y):\n",
    "        a=a+str(y[i])    \n",
    "    a = a+str(y[i])+' '\n",
    "print(a)"
   ]
  },
  {
   "cell_type": "code",
   "execution_count": 20,
   "metadata": {},
   "outputs": [
    {
     "name": "stdout",
     "output_type": "stream",
     "text": [
      "Volume of Sphere of diameter 12 cm is 904.896 cubic cms\n"
     ]
    }
   ],
   "source": [
    "#Python Assignment 1, Question3\n",
    "d=12\n",
    "pi=3.142\n",
    "print(\"Volume of Sphere of diameter 12 cm is {} cubic cms\".format(((4/3)*pi*((d/2)**3))))"
   ]
  },
  {
   "cell_type": "code",
   "execution_count": null,
   "metadata": {},
   "outputs": [],
   "source": []
  },
  {
   "cell_type": "code",
   "execution_count": null,
   "metadata": {},
   "outputs": [],
   "source": []
  },
  {
   "cell_type": "code",
   "execution_count": null,
   "metadata": {},
   "outputs": [],
   "source": []
  }
 ],
 "metadata": {
  "kernelspec": {
   "display_name": "Python 3",
   "language": "python",
   "name": "python3"
  },
  "language_info": {
   "codemirror_mode": {
    "name": "ipython",
    "version": 3
   },
   "file_extension": ".py",
   "mimetype": "text/x-python",
   "name": "python",
   "nbconvert_exporter": "python",
   "pygments_lexer": "ipython3",
   "version": "3.7.6"
  }
 },
 "nbformat": 4,
 "nbformat_minor": 4
}
